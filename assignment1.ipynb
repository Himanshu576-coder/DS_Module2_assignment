{
 "cells": [
  {
   "cell_type": "markdown",
   "metadata": {},
   "source": [
    "<center>\n",
    "    <img src=\"https://cf-courses-data.s3.us.cloud-object-storage.appdomain.cloud/IBMDeveloperSkillsNetwork-DS0105EN-SkillsNetwork/labs/Module2/images/SN_web_lightmode.png\" width=\"300\" alt=\"cognitiveclass.ai logo\">\n",
    "</center>\n"
   ]
  },
  {
   "cell_type": "markdown",
   "metadata": {},
   "source": [
    "#### Add your code below following the instructions given in the course\n"
   ]
  },
  {
   "cell_type": "markdown",
   "metadata": {},
   "source": [
    "This notebook is created as part of IBM data science professional certificate on coursera "
   ]
  },
  {
   "cell_type": "markdown",
   "metadata": {},
   "source": [
    "## Some languages that are used in data science include \n",
    "1. Python\n",
    "2. R\n",
    "3. Julia\n",
    "4. SQL "
   ]
  },
  {
   "cell_type": "markdown",
   "metadata": {},
   "source": [
    "## Some of the libraries used in data science include \n",
    "1. Matplotlib\n",
    "2. Numpy\n",
    "3. Seaborn\n",
    "4. Pandas\n",
    "5. ggplot2 (for R)"
   ]
  },
  {
   "cell_type": "markdown",
   "metadata": {},
   "source": [
    "|Tools | Purpose|\n",
    "|---------------|-----------|\n",
    "|Data management|MySQL, Apache Hadoop|\n",
    "|Data transformation| APache Airflow|\n",
    "|Data visualisation | Tableau, PowerBI|\n",
    "|Code management| Git|\n",
    "|Development environment| Jupyter, RStudio|"
   ]
  },
  {
   "cell_type": "markdown",
   "metadata": {},
   "source": [
    "Python can perform various arithmetic operations such as addition, subtrsaction, multiplication and division."
   ]
  },
  {
   "cell_type": "code",
   "execution_count": 2,
   "metadata": {},
   "outputs": [
    {
     "name": "stdout",
     "output_type": "stream",
     "text": [
      "5\n",
      "6\n"
     ]
    }
   ],
   "source": [
    "num1 = 2\n",
    "num2 = 3\n",
    "\n",
    "print(num1 + num2)\n",
    "print(num1 * num2)"
   ]
  },
  {
   "cell_type": "code",
   "execution_count": 3,
   "metadata": {},
   "outputs": [
    {
     "name": "stdout",
     "output_type": "stream",
     "text": [
      "the number of hours in 70  minutes equals  1.1666666666666667\n"
     ]
    }
   ],
   "source": [
    "minutes = 70\n",
    "hours = minutes/60\n",
    "print(\"the number of hours in\", minutes, \" minutes equals \", hours)  "
   ]
  },
  {
   "cell_type": "markdown",
   "metadata": {},
   "source": [
    "# Objectives\n",
    "- learn about the tools used in DS\n",
    "- Write simple code in Python\n",
    "- learn how to use Jupyter for Python\n",
    "- Upload and share projects on Github "
   ]
  },
  {
   "cell_type": "markdown",
   "metadata": {},
   "source": [
    "The notebook was created by Himanshu"
   ]
  }
 ],
 "metadata": {
  "kernelspec": {
   "display_name": "Python 3 (ipykernel)",
   "language": "python",
   "name": "python3"
  },
  "language_info": {
   "codemirror_mode": {
    "name": "ipython",
    "version": 3
   },
   "file_extension": ".py",
   "mimetype": "text/x-python",
   "name": "python",
   "nbconvert_exporter": "python",
   "pygments_lexer": "ipython3",
   "version": "3.12.8"
  }
 },
 "nbformat": 4,
 "nbformat_minor": 4
}
